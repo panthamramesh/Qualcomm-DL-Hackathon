{
  "nbformat": 4,
  "nbformat_minor": 0,
  "metadata": {
    "colab": {
      "provenance": [],
      "gpuType": "T4",
      "authorship_tag": "ABX9TyO4cEmgW4+exVFEl31PeC0U",
      "include_colab_link": true
    },
    "kernelspec": {
      "name": "python3",
      "display_name": "Python 3"
    },
    "language_info": {
      "name": "python"
    },
    "accelerator": "GPU"
  },
  "cells": [
    {
      "cell_type": "markdown",
      "metadata": {
        "id": "view-in-github",
        "colab_type": "text"
      },
      "source": [
        "<a href=\"https://colab.research.google.com/github/panthamramesh/Qualcomm-DL-Hackathon/blob/master/DL_Hackathon.ipynb\" target=\"_parent\"><img src=\"https://colab.research.google.com/assets/colab-badge.svg\" alt=\"Open In Colab\"/></a>"
      ]
    },
    {
      "cell_type": "code",
      "execution_count": 9,
      "metadata": {
        "id": "unAjJ5KlqUwG",
        "outputId": "3b384670-51d3-42a9-a724-2581a129ca2f",
        "colab": {
          "base_uri": "https://localhost:8080/"
        }
      },
      "outputs": [
        {
          "output_type": "stream",
          "name": "stdout",
          "text": [
            "fatal: destination path 'Qualcomm-DL-Hackathon' already exists and is not an empty directory.\n"
          ]
        }
      ],
      "source": [
        "!git clone https://github.com/Prashant-AV/Qualcomm-DL-Hackathon.git"
      ]
    },
    {
      "cell_type": "code",
      "source": [
        "import os\n",
        "import zipfile"
      ],
      "metadata": {
        "id": "_2TufJZtrg1I"
      },
      "execution_count": null,
      "outputs": []
    },
    {
      "cell_type": "code",
      "source": [
        "import zipfile\n",
        "import os\n",
        "import shutil\n",
        "\n",
        "def extract_files_only(zip_file_paths, destination_folder):\n",
        "    # Create the destination folder if it doesn't exist\n",
        "    if not os.path.exists(destination_folder):\n",
        "        os.makedirs(destination_folder)\n",
        "\n",
        "    for zip_file_path in zip_file_paths:\n",
        "        with zipfile.ZipFile(zip_file_path, 'r') as zip_ref:\n",
        "            for member in zip_ref.namelist():\n",
        "                # Check if the member is a file (not a directory)\n",
        "                if not member.endswith('/'):\n",
        "                    # Extract the file to a temporary location\n",
        "                    source = zip_ref.open(member)\n",
        "                    target_path = os.path.join(destination_folder, os.path.basename(member))\n",
        "                    with open(target_path, \"wb\") as target:\n",
        "                        shutil.copyfileobj(source, target)\n",
        "\n",
        "# Example usage\n",
        "zip_file_paths = ['/content/Qualcomm-DL-Hackathon/train/images part-1.zip', '/content/Qualcomm-DL-Hackathon/train/images part-2.zip']\n",
        "destination_folder = '/content/Qualcomm-DL-Hackathon/Images'\n",
        "\n",
        "extract_files_only(zip_file_paths, destination_folder)\n",
        "print(f\"Files from {zip_file_paths} have been extracted to {destination_folder}.\")"
      ],
      "metadata": {
        "id": "dHq3wySY3bJL",
        "outputId": "72848f33-8fe3-4ba5-8b6b-2b5c31c5efb8",
        "colab": {
          "base_uri": "https://localhost:8080/"
        }
      },
      "execution_count": 20,
      "outputs": [
        {
          "output_type": "stream",
          "name": "stdout",
          "text": [
            "Files from ['/content/Qualcomm-DL-Hackathon/train/images part-1.zip', '/content/Qualcomm-DL-Hackathon/train/images part-2.zip'] have been extracted to /content/Qualcomm-DL-Hackathon/Images.\n"
          ]
        }
      ]
    },
    {
      "cell_type": "code",
      "source": [
        "def count_files_in_folder(folder_path):\n",
        "    with os.scandir(folder_path) as entries:\n",
        "        return sum(1 for entry in entries if entry.is_file())\n",
        "\n",
        "# Example usage\n",
        "folder_path = '/content/Qualcomm-DL-Hackathon/Images'\n",
        "file_count = count_files_in_folder(folder_path)\n",
        "print(f\"Number of files in the folder: {file_count}\")"
      ],
      "metadata": {
        "id": "QLqfTkki76TO",
        "outputId": "aef2281a-aea0-48b5-e512-1b658bf55119",
        "colab": {
          "base_uri": "https://localhost:8080/"
        }
      },
      "execution_count": 21,
      "outputs": [
        {
          "output_type": "stream",
          "name": "stdout",
          "text": [
            "Number of files in the folder: 2352\n"
          ]
        }
      ]
    },
    {
      "cell_type": "code",
      "source": [],
      "metadata": {
        "id": "3bCmVdmT-eQ-"
      },
      "execution_count": null,
      "outputs": []
    }
  ]
}