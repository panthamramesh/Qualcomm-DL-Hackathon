{
  "nbformat": 4,
  "nbformat_minor": 0,
  "metadata": {
    "colab": {
      "provenance": [],
      "gpuType": "T4",
      "authorship_tag": "ABX9TyNjPi+D96h0ccTVA+pPMQdb",
      "include_colab_link": true
    },
    "kernelspec": {
      "name": "python3",
      "display_name": "Python 3"
    },
    "language_info": {
      "name": "python"
    },
    "accelerator": "GPU"
  },
  "cells": [
    {
      "cell_type": "markdown",
      "metadata": {
        "id": "view-in-github",
        "colab_type": "text"
      },
      "source": [
        "<a href=\"https://colab.research.google.com/github/panthamramesh/Qualcomm-DL-Hackathon/blob/master/DL_Hackathon_1.ipynb\" target=\"_parent\"><img src=\"https://colab.research.google.com/assets/colab-badge.svg\" alt=\"Open In Colab\"/></a>"
      ]
    },
    {
      "cell_type": "code",
      "execution_count": 11,
      "metadata": {
        "id": "unAjJ5KlqUwG",
        "outputId": "c1eaf615-f979-4e9f-b874-faaee5fd96f3",
        "colab": {
          "base_uri": "https://localhost:8080/"
        }
      },
      "outputs": [
        {
          "output_type": "stream",
          "name": "stdout",
          "text": [
            "fatal: destination path 'Qualcomm-DL-Hackathon' already exists and is not an empty directory.\n"
          ]
        }
      ],
      "source": [
        "!git clone https://github.com/Prashant-AV/Qualcomm-DL-Hackathon.git"
      ]
    },
    {
      "cell_type": "code",
      "source": [
        "import os\n",
        "import zipfile"
      ],
      "metadata": {
        "id": "_2TufJZtrg1I"
      },
      "execution_count": 12,
      "outputs": []
    },
    {
      "cell_type": "code",
      "source": [
        "import zipfile\n",
        "import os\n",
        "import shutil\n",
        "\n",
        "def extract_files_only(zip_file_paths, destination_folder):\n",
        "    # Create the destination folder if it doesn't exist\n",
        "    if not os.path.exists(destination_folder):\n",
        "        os.makedirs(destination_folder)\n",
        "\n",
        "    for zip_file_path in zip_file_paths:\n",
        "        with zipfile.ZipFile(zip_file_path, 'r') as zip_ref:\n",
        "            for member in zip_ref.namelist():\n",
        "                # Check if the member is a file (not a directory)\n",
        "                if not member.endswith('/'):\n",
        "                    # Extract the file to a temporary location\n",
        "                    source = zip_ref.open(member)\n",
        "                    target_path = os.path.join(destination_folder, os.path.basename(member))\n",
        "                    with open(target_path, \"wb\") as target:\n",
        "                        shutil.copyfileobj(source, target)\n",
        "\n",
        "# Example usage\n",
        "zip_file_paths = ['/content/Qualcomm-DL-Hackathon/train/images part-1.zip', '/content/Qualcomm-DL-Hackathon/train/images part-2.zip']\n",
        "destination_folder = '/content/Qualcomm-DL-Hackathon/Images'\n",
        "\n",
        "extract_files_only(zip_file_paths, destination_folder)\n",
        "print(f\"Files from {zip_file_paths} have been extracted to {destination_folder}.\")"
      ],
      "metadata": {
        "id": "dHq3wySY3bJL",
        "outputId": "bfc5513d-f60e-4044-cb38-73630c621751",
        "colab": {
          "base_uri": "https://localhost:8080/"
        }
      },
      "execution_count": 13,
      "outputs": [
        {
          "output_type": "stream",
          "name": "stdout",
          "text": [
            "Files from ['/content/Qualcomm-DL-Hackathon/train/images part-1.zip', '/content/Qualcomm-DL-Hackathon/train/images part-2.zip'] have been extracted to /content/Qualcomm-DL-Hackathon/Images.\n"
          ]
        }
      ]
    },
    {
      "cell_type": "code",
      "source": [
        "def count_files_in_folder(folder_path):\n",
        "    with os.scandir(folder_path) as entries:\n",
        "        return sum(1 for entry in entries if entry.is_file())\n",
        "\n",
        "# Example usage\n",
        "folder_path = '/content/Qualcomm-DL-Hackathon/Images'\n",
        "file_count = count_files_in_folder(folder_path)\n",
        "print(f\"Number of files in the folder: {file_count}\")"
      ],
      "metadata": {
        "id": "QLqfTkki76TO",
        "outputId": "146580a4-45ef-4270-ce5c-c2ec8f1e3fd4",
        "colab": {
          "base_uri": "https://localhost:8080/"
        }
      },
      "execution_count": 14,
      "outputs": [
        {
          "output_type": "stream",
          "name": "stdout",
          "text": [
            "Number of files in the folder: 2352\n"
          ]
        }
      ]
    },
    {
      "cell_type": "code",
      "source": [
        "import os\n",
        "import pandas as pd\n",
        "from PIL import Image\n",
        "from torchvision import transforms\n",
        "from torch.utils.data import DataLoader, Dataset,random_split\n",
        "import torch\n",
        "import torch.nn as nn\n",
        "import torch.optim as optim\n",
        "import torch.nn.functional as F"
      ],
      "metadata": {
        "id": "3bCmVdmT-eQ-"
      },
      "execution_count": 15,
      "outputs": []
    },
    {
      "cell_type": "code",
      "source": [
        "# Set device (GPU if available)\n",
        "device = torch.device(\"cuda\" if torch.cuda.is_available() else \"cpu\")"
      ],
      "metadata": {
        "id": "ekUDUpQ55lEH"
      },
      "execution_count": 16,
      "outputs": []
    },
    {
      "cell_type": "code",
      "source": [
        "# Paths to the CSV files and image folder\n",
        "train_csv_path = '/content/Qualcomm-DL-Hackathon/train/train.csv'\n",
        "test_csv_path = '/content/Qualcomm-DL-Hackathon/test.csv'\n",
        "image_folder_path = '/content/Qualcomm-DL-Hackathon/Images'\n",
        "\n",
        "# Data transformations\n",
        "transform = transforms.Compose([\n",
        "    transforms.Resize((128, 128)),\n",
        "    transforms.RandomHorizontalFlip(),\n",
        "    transforms.RandomRotation(30),\n",
        "    transforms.ToTensor(),\n",
        "    transforms.Normalize([0.485, 0.456, 0.406], [0.229, 0.224, 0.225])\n",
        "])\n",
        "\n",
        "# Load datasets\n",
        "def load_data(csv_file, root_dir, transform):\n",
        "    data_frame = pd.read_csv(csv_file)\n",
        "    images = []\n",
        "    labels = []\n",
        "    for idx in range(len(data_frame)):\n",
        "        img_name = os.path.join(root_dir, data_frame.iloc[idx, 0])\n",
        "        image = Image.open(img_name)\n",
        "        if transform:\n",
        "            image = transform(image)\n",
        "        images.append(image)\n",
        "        if 'emergency_or_not' in data_frame.columns:\n",
        "            labels.append(data_frame.iloc[idx, 1])\n",
        "        else:\n",
        "            labels.append(-1)\n",
        "    return images, labels\n",
        "\n",
        "train_images, train_labels = load_data(train_csv_path, image_folder_path, transform)\n",
        "test_images, test_labels = load_data(test_csv_path, image_folder_path, transform)\n",
        "\n",
        "train_data = list(zip(train_images, train_labels))\n",
        "test_data = list(zip(test_images, test_labels))\n",
        "\n",
        "# Split the training data into training and validation sets\n",
        "train_size = int(0.8 * len(train_data))\n",
        "val_size = len(train_data) - train_size\n",
        "train_dataset, val_dataset = random_split(train_data, [train_size, val_size])\n",
        "\n",
        "train_loader = DataLoader(train_dataset, batch_size=64, shuffle=True)\n",
        "val_loader = DataLoader(val_dataset, batch_size=64, shuffle=False)\n",
        "test_loader = DataLoader(test_data, batch_size=64, shuffle=False)"
      ],
      "metadata": {
        "id": "mNcPFqoC5mv5"
      },
      "execution_count": 21,
      "outputs": []
    },
    {
      "cell_type": "code",
      "source": [
        "def create_model():\n",
        "    model = nn.Sequential(\n",
        "        nn.Conv2d(3, 32, kernel_size=3, stride=1, padding=1),\n",
        "        nn.ReLU(),\n",
        "        nn.MaxPool2d(kernel_size=2, stride=2, padding=0),\n",
        "        nn.Conv2d(32, 64, kernel_size=3, stride=1, padding=1),\n",
        "        nn.ReLU(),\n",
        "        nn.MaxPool2d(kernel_size=2, stride=2, padding=0),\n",
        "        nn.Flatten(),\n",
        "        nn.Linear(64 * 32 * 32, 256),\n",
        "        nn.ReLU(),\n",
        "        nn.Linear(256, 2)  # Assuming 2 classes: emergency and non-emergency\n",
        "    )\n",
        "    return model\n",
        "\n",
        "model = create_model()"
      ],
      "metadata": {
        "id": "Vntsb6eO52cr"
      },
      "execution_count": 22,
      "outputs": []
    },
    {
      "cell_type": "code",
      "source": [
        "criterion = nn.CrossEntropyLoss()\n",
        "optimizer = optim.Adam(model.parameters(), lr=0.0001)"
      ],
      "metadata": {
        "id": "oT5wSG6m56Ae"
      },
      "execution_count": 23,
      "outputs": []
    },
    {
      "cell_type": "code",
      "source": [
        "num_epochs = 10\n",
        "\n",
        "def train_model(model, train_loader, val_loader, criterion, optimizer, num_epochs):\n",
        "    for epoch in range(num_epochs):\n",
        "        model.train()\n",
        "        running_loss = 0.0\n",
        "        for images, labels in train_loader:\n",
        "            optimizer.zero_grad()\n",
        "            outputs = model(images)\n",
        "            loss = criterion(outputs, labels)\n",
        "            loss.backward()\n",
        "            optimizer.step()\n",
        "            running_loss += loss.item()\n",
        "\n",
        "        # Validate the model\n",
        "        model.eval()\n",
        "        val_loss = 0.0\n",
        "        correct = 0\n",
        "        total = 0\n",
        "        with torch.no_grad():\n",
        "            for images, labels in val_loader:\n",
        "                outputs = model(images)\n",
        "                loss = criterion(outputs, labels)\n",
        "                val_loss += loss.item()\n",
        "                _, predicted = torch.max(outputs.data, 1)\n",
        "                total += labels.size(0)\n",
        "                correct += (predicted == labels).sum().item()\n",
        "\n",
        "        val_accuracy = 100 * correct / total\n",
        "        print(f'Epoch [{epoch+1}/{num_epochs}], Loss: {running_loss/len(train_loader):.4f}, Val Loss: {val_loss/len(val_loader):.4f}, Val Accuracy: {val_accuracy:.2f}%')\n",
        "\n",
        "train_model(model, train_loader, val_loader, criterion, optimizer, num_epochs)"
      ],
      "metadata": {
        "id": "KNgxEA4I59QV",
        "outputId": "661fe4cf-75e9-4c58-a4b4-0eac7e8f974a",
        "colab": {
          "base_uri": "https://localhost:8080/"
        }
      },
      "execution_count": 24,
      "outputs": [
        {
          "output_type": "stream",
          "name": "stdout",
          "text": [
            "Epoch [1/10], Loss: 0.7203, Val Loss: 0.6070, Val Accuracy: 63.94%\n",
            "Epoch [2/10], Loss: 0.5663, Val Loss: 0.5108, Val Accuracy: 75.15%\n",
            "Epoch [3/10], Loss: 0.4969, Val Loss: 0.4644, Val Accuracy: 79.39%\n",
            "Epoch [4/10], Loss: 0.4308, Val Loss: 0.4733, Val Accuracy: 77.88%\n",
            "Epoch [5/10], Loss: 0.3990, Val Loss: 0.4281, Val Accuracy: 81.21%\n",
            "Epoch [6/10], Loss: 0.3495, Val Loss: 0.4365, Val Accuracy: 78.48%\n",
            "Epoch [7/10], Loss: 0.3168, Val Loss: 0.4389, Val Accuracy: 79.39%\n",
            "Epoch [8/10], Loss: 0.2820, Val Loss: 0.4689, Val Accuracy: 77.27%\n",
            "Epoch [9/10], Loss: 0.2506, Val Loss: 0.4385, Val Accuracy: 79.09%\n",
            "Epoch [10/10], Loss: 0.2215, Val Loss: 0.4420, Val Accuracy: 79.70%\n"
          ]
        }
      ]
    },
    {
      "cell_type": "code",
      "source": [
        "def evaluate_model(model, test_loader):\n",
        "    model.eval()\n",
        "    predictions = []\n",
        "    with torch.no_grad():\n",
        "        for images, _ in test_loader:\n",
        "            outputs = model(images)\n",
        "            _, predicted = torch.max(outputs.data, 1)\n",
        "            predictions.extend(predicted.cpu().numpy())\n",
        "    return predictions\n",
        "\n",
        "predictions = evaluate_model(model, test_loader)\n",
        "\n",
        "# Save predictions to CSV\n",
        "test_df = pd.read_csv(test_csv_path)\n",
        "test_df['emergency_or_not'] = predictions\n",
        "test_df.to_csv('predictions_1.csv', index=False)\n",
        "\n",
        "print(\"Predictions saved to predictions.csv\")"
      ],
      "metadata": {
        "id": "eqTwl1wX7T8k",
        "outputId": "75dde93b-d571-4753-8f1d-a5ad6dbe4011",
        "colab": {
          "base_uri": "https://localhost:8080/"
        }
      },
      "execution_count": null,
      "outputs": [
        {
          "output_type": "stream",
          "name": "stdout",
          "text": [
            "Predictions saved to predictions.csv\n"
          ]
        }
      ]
    }
  ]
}