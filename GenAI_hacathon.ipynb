{
  "nbformat": 4,
  "nbformat_minor": 0,
  "metadata": {
    "colab": {
      "provenance": [],
      "gpuType": "T4",
      "authorship_tag": "ABX9TyPJZn7afOe4E56LsFmfC2QY",
      "include_colab_link": true
    },
    "kernelspec": {
      "name": "python3",
      "display_name": "Python 3"
    },
    "language_info": {
      "name": "python"
    },
    "accelerator": "GPU"
  },
  "cells": [
    {
      "cell_type": "markdown",
      "metadata": {
        "id": "view-in-github",
        "colab_type": "text"
      },
      "source": [
        "<a href=\"https://colab.research.google.com/github/panthamramesh/Qualcomm-DL-Hackathon/blob/master/GenAI_hacathon.ipynb\" target=\"_parent\"><img src=\"https://colab.research.google.com/assets/colab-badge.svg\" alt=\"Open In Colab\"/></a>"
      ]
    },
    {
      "cell_type": "code",
      "source": [
        "import pandas as pd\n",
        "!pip install groq\n",
        "!pip install requests"
      ],
      "metadata": {
        "colab": {
          "base_uri": "https://localhost:8080/"
        },
        "id": "lz7fJslvtWVe",
        "outputId": "e9236a0c-a7df-49b7-e56f-57e702c434ad"
      },
      "execution_count": null,
      "outputs": [
        {
          "output_type": "stream",
          "name": "stdout",
          "text": [
            "Requirement already satisfied: groq in /usr/local/lib/python3.11/dist-packages (0.10.0)\n",
            "Requirement already satisfied: anyio<5,>=3.5.0 in /usr/local/lib/python3.11/dist-packages (from groq) (3.7.1)\n",
            "Requirement already satisfied: distro<2,>=1.7.0 in /usr/local/lib/python3.11/dist-packages (from groq) (1.9.0)\n",
            "Requirement already satisfied: httpx<1,>=0.23.0 in /usr/local/lib/python3.11/dist-packages (from groq) (0.28.1)\n",
            "Requirement already satisfied: pydantic<3,>=1.9.0 in /usr/local/lib/python3.11/dist-packages (from groq) (2.10.6)\n",
            "Requirement already satisfied: sniffio in /usr/local/lib/python3.11/dist-packages (from groq) (1.3.1)\n",
            "Requirement already satisfied: typing-extensions<5,>=4.7 in /usr/local/lib/python3.11/dist-packages (from groq) (4.12.2)\n",
            "Requirement already satisfied: idna>=2.8 in /usr/local/lib/python3.11/dist-packages (from anyio<5,>=3.5.0->groq) (3.10)\n",
            "Requirement already satisfied: certifi in /usr/local/lib/python3.11/dist-packages (from httpx<1,>=0.23.0->groq) (2025.1.31)\n",
            "Requirement already satisfied: httpcore==1.* in /usr/local/lib/python3.11/dist-packages (from httpx<1,>=0.23.0->groq) (1.0.7)\n",
            "Requirement already satisfied: h11<0.15,>=0.13 in /usr/local/lib/python3.11/dist-packages (from httpcore==1.*->httpx<1,>=0.23.0->groq) (0.14.0)\n",
            "Requirement already satisfied: annotated-types>=0.6.0 in /usr/local/lib/python3.11/dist-packages (from pydantic<3,>=1.9.0->groq) (0.7.0)\n",
            "Requirement already satisfied: pydantic-core==2.27.2 in /usr/local/lib/python3.11/dist-packages (from pydantic<3,>=1.9.0->groq) (2.27.2)\n",
            "Requirement already satisfied: requests in /usr/local/lib/python3.11/dist-packages (2.32.3)\n",
            "Requirement already satisfied: charset-normalizer<4,>=2 in /usr/local/lib/python3.11/dist-packages (from requests) (3.4.1)\n",
            "Requirement already satisfied: idna<4,>=2.5 in /usr/local/lib/python3.11/dist-packages (from requests) (3.10)\n",
            "Requirement already satisfied: urllib3<3,>=1.21.1 in /usr/local/lib/python3.11/dist-packages (from requests) (2.3.0)\n",
            "Requirement already satisfied: certifi>=2017.4.17 in /usr/local/lib/python3.11/dist-packages (from requests) (2025.1.31)\n"
          ]
        }
      ]
    },
    {
      "cell_type": "code",
      "source": [
        "import os\n",
        "from groq import Groq\n",
        "os.environ[\"GROQ_API_KEY\"] = \"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\"\n",
        "\n",
        "client = Groq(api_key=os.environ.get(\"GROQ_API_KEY\"))\n",
        "\n",
        "# Test the client with a simple request\n",
        "response = client.llm.list_models()\n",
        "print(response)"
      ],
      "metadata": {
        "colab": {
          "base_uri": "https://localhost:8080/",
          "height": 373
        },
        "id": "O8zzI52ytYEO",
        "outputId": "ec544a5d-db07-4232-d3a4-6668c6486174"
      },
      "execution_count": null,
      "outputs": [
        {
          "output_type": "error",
          "ename": "TypeError",
          "evalue": "Client.__init__() got an unexpected keyword argument 'proxies'",
          "traceback": [
            "\u001b[0;31m---------------------------------------------------------------------------\u001b[0m",
            "\u001b[0;31mTypeError\u001b[0m                                 Traceback (most recent call last)",
            "\u001b[0;32m<ipython-input-35-365cf2d17693>\u001b[0m in \u001b[0;36m<cell line: 0>\u001b[0;34m()\u001b[0m\n\u001b[1;32m      3\u001b[0m \u001b[0mos\u001b[0m\u001b[0;34m.\u001b[0m\u001b[0menviron\u001b[0m\u001b[0;34m[\u001b[0m\u001b[0;34m\"GROQ_API_KEY\"\u001b[0m\u001b[0;34m]\u001b[0m \u001b[0;34m=\u001b[0m \u001b[0;34m\"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\"\u001b[0m\u001b[0;34m\u001b[0m\u001b[0;34m\u001b[0m\u001b[0m\n\u001b[1;32m      4\u001b[0m \u001b[0;34m\u001b[0m\u001b[0m\n\u001b[0;32m----> 5\u001b[0;31m \u001b[0mclient\u001b[0m \u001b[0;34m=\u001b[0m \u001b[0mGroq\u001b[0m\u001b[0;34m(\u001b[0m\u001b[0mapi_key\u001b[0m\u001b[0;34m=\u001b[0m\u001b[0mos\u001b[0m\u001b[0;34m.\u001b[0m\u001b[0menviron\u001b[0m\u001b[0;34m.\u001b[0m\u001b[0mget\u001b[0m\u001b[0;34m(\u001b[0m\u001b[0;34m\"GROQ_API_KEY\"\u001b[0m\u001b[0;34m)\u001b[0m\u001b[0;34m)\u001b[0m\u001b[0;34m\u001b[0m\u001b[0;34m\u001b[0m\u001b[0m\n\u001b[0m\u001b[1;32m      6\u001b[0m \u001b[0;34m\u001b[0m\u001b[0m\n\u001b[1;32m      7\u001b[0m \u001b[0;31m# Test the client with a simple request\u001b[0m\u001b[0;34m\u001b[0m\u001b[0;34m\u001b[0m\u001b[0m\n",
            "\u001b[0;32m/usr/local/lib/python3.11/dist-packages/groq/_client.py\u001b[0m in \u001b[0;36m__init__\u001b[0;34m(self, api_key, base_url, timeout, max_retries, default_headers, default_query, http_client, _strict_response_validation)\u001b[0m\n\u001b[1;32m     93\u001b[0m \u001b[0;34m\u001b[0m\u001b[0m\n\u001b[1;32m     94\u001b[0m         \u001b[0;32mif\u001b[0m \u001b[0mbase_url\u001b[0m \u001b[0;32mis\u001b[0m \u001b[0;32mNone\u001b[0m\u001b[0;34m:\u001b[0m\u001b[0;34m\u001b[0m\u001b[0;34m\u001b[0m\u001b[0m\n\u001b[0;32m---> 95\u001b[0;31m             \u001b[0mbase_url\u001b[0m \u001b[0;34m=\u001b[0m \u001b[0mos\u001b[0m\u001b[0;34m.\u001b[0m\u001b[0menviron\u001b[0m\u001b[0;34m.\u001b[0m\u001b[0mget\u001b[0m\u001b[0;34m(\u001b[0m\u001b[0;34m\"GROQ_BASE_URL\"\u001b[0m\u001b[0;34m)\u001b[0m\u001b[0;34m\u001b[0m\u001b[0;34m\u001b[0m\u001b[0m\n\u001b[0m\u001b[1;32m     96\u001b[0m         \u001b[0;32mif\u001b[0m \u001b[0mbase_url\u001b[0m \u001b[0;32mis\u001b[0m \u001b[0;32mNone\u001b[0m\u001b[0;34m:\u001b[0m\u001b[0;34m\u001b[0m\u001b[0;34m\u001b[0m\u001b[0m\n\u001b[1;32m     97\u001b[0m             \u001b[0mbase_url\u001b[0m \u001b[0;34m=\u001b[0m \u001b[0;34mf\"https://api.groq.com\"\u001b[0m\u001b[0;34m\u001b[0m\u001b[0;34m\u001b[0m\u001b[0m\n",
            "\u001b[0;32m/usr/local/lib/python3.11/dist-packages/groq/_base_client.py\u001b[0m in \u001b[0;36m__init__\u001b[0;34m(self, version, base_url, max_retries, timeout, transport, proxies, limits, http_client, custom_headers, custom_query, _strict_response_validation)\u001b[0m\n\u001b[1;32m    790\u001b[0m                 \u001b[0;32mraise\u001b[0m \u001b[0mValueError\u001b[0m\u001b[0;34m(\u001b[0m\u001b[0;34m\"The `http_client` argument is mutually exclusive with `connection_pool_limits`\"\u001b[0m\u001b[0;34m)\u001b[0m\u001b[0;34m\u001b[0m\u001b[0;34m\u001b[0m\u001b[0m\n\u001b[1;32m    791\u001b[0m         \u001b[0;32melse\u001b[0m\u001b[0;34m:\u001b[0m\u001b[0;34m\u001b[0m\u001b[0;34m\u001b[0m\u001b[0m\n\u001b[0;32m--> 792\u001b[0;31m             \u001b[0mlimits\u001b[0m \u001b[0;34m=\u001b[0m \u001b[0mDEFAULT_CONNECTION_LIMITS\u001b[0m\u001b[0;34m\u001b[0m\u001b[0;34m\u001b[0m\u001b[0m\n\u001b[0m\u001b[1;32m    793\u001b[0m \u001b[0;34m\u001b[0m\u001b[0m\n\u001b[1;32m    794\u001b[0m         \u001b[0;32mif\u001b[0m \u001b[0mtransport\u001b[0m \u001b[0;32mis\u001b[0m \u001b[0;32mnot\u001b[0m \u001b[0;32mNone\u001b[0m\u001b[0;34m:\u001b[0m\u001b[0;34m\u001b[0m\u001b[0;34m\u001b[0m\u001b[0m\n",
            "\u001b[0;31mTypeError\u001b[0m: Client.__init__() got an unexpected keyword argument 'proxies'"
          ]
        }
      ]
    },
    {
      "cell_type": "code",
      "execution_count": null,
      "metadata": {
        "id": "unAjJ5KlqUwG"
      },
      "outputs": [],
      "source": [
        "train_data = pd.read_csv('/content/train_5v5GIB2.csv')"
      ]
    },
    {
      "cell_type": "code",
      "source": [
        "# Combine subject and body for input\n",
        "train_data['text'] = train_data['ticket_subject'] + \" \" + train_data['ticket_body']"
      ],
      "metadata": {
        "id": "LimXg5hYvezw"
      },
      "execution_count": null,
      "outputs": []
    },
    {
      "cell_type": "code",
      "source": [
        "# Define the system prompt\n",
        "system_prompt = \"\"\"\n",
        "You are an AI model trained to classify IT support tickets. Each ticket consists of a subject and body, and you need to predict the following attributes:\n",
        "- Department: The responsible department, such as Technical Support, Customer Service, Billing and Payments, Product Support, IT Support, Returns and Exchanges, Sales and Pre-Sales, Human Resources, Service Outages and Maintenance, or General Inquiry\n",
        "- Priority: The urgency level such as low, medium, or high.\n",
        "- Language: The language code for the email's language, such as en (English), de (German) etc.\n",
        "- Type: The nature of the request, categorized as Incident, Request, Problem, or Change.\n",
        "\"\"\"\n",
        "\n",
        "# Craft few-shot prompts for training examples\n",
        "def create_few_shot_prompt(train_data):\n",
        "    examples = \"\\n\\n\".join([f\"Subject: {row['ticket_subject']}\\nBody: {row['ticket_body']}\\n\\nClassify the following attributes:\\nDepartment: {row['department']}\\nPriority: {row['priority']}\\nLanguage: {row['language']}\\nType: {row['type']}\" for _, row in train_data.iterrows()])\n",
        "    return examples\n",
        "\n",
        "few_shot_prompt = create_few_shot_prompt(train_data)\n"
      ],
      "metadata": {
        "id": "xzQS7NmOvehW"
      },
      "execution_count": null,
      "outputs": []
    },
    {
      "cell_type": "code",
      "source": [
        "few_shot_prompt"
      ],
      "metadata": {
        "colab": {
          "base_uri": "https://localhost:8080/",
          "height": 643
        },
        "id": "JMilXxbCwWNh",
        "outputId": "37d1a3da-c611-47dd-de88-5a613a8df786"
      },
      "execution_count": null,
      "outputs": [
        {
          "output_type": "execute_result",
          "data": {
            "text/plain": [
              "\"Subject: Discrepancia de facturación en Google Workspace\\nBody: Estimado equipo de soporte de TI,\\n\\nEstoy escribiendo para informar un monto de facturación incorrecto en mi suscripción de Google Workspace Business Standard bajo la cuenta <acc_num>. Por favor, revise y ajuste la factura. Espero su pronta respuesta.\\n\\nSaludos,\\n\\n<name>\\n\\nClassify the following attributes:\\nDepartment: Billing and Payments\\nPriority: low\\nLanguage: es\\nType: Incident\\n\\nSubject: Urgent Consultation Request for Critical IT Issues\\nBody: Dear IT Services Support Team, I hope this message finds you well. My name is <name> and I am currently experiencing critical issues with our server administration, which are significantly impacting our operations. We rely heavily on your IT Consulting Service for our ongoing technical needs. Therefore, we urgently need your expert assistance to resolve these issues as quickly as possible. Time is of the essence because our operations have come to a standstill. Please contact us at your earliest convenience, either via email or phone at <tel_num>. The swift resolution of this situation is imperative to minimize any further disruption to our business. Thank you for your prompt attention to this matter. Kind regards, <name>\\n\\nClassify the following attributes:\\nDepartment: Customer Service\\nPriority: high\\nLanguage: en\\nType: Request\\n\\nSubject: Consulta sobre Servicios de Consultoría en TI\\nBody: Estimado Servicio de Atención al Cliente,\\n\\nMi nombre es <name>, y estoy interesado en obtener más información sobre sus Servicios de Consultoría en TI, centrándome específicamente en el desarrollo de software y la administración de servidores. Agradecería información detallada sobre los servicios ofrecidos, precios y proceso de compromiso. ¿Podría proporcionarme esta información o direccionarme a un representante que pueda ayudarme con mi consulta?\\n\\nGracias por su asistencia.\\n\\nAtentamente,\\n\\n<name>\\n<tel_num>\\n<email_address>\\n\\nClassify the following attributes:\\nDepartment: General Inquiry\\nPriority: medium\\nLanguage: es\\nType: Request\\n\\nSubject: Demande de mise à jour des dossiers\\nBody: Cher service client, \\n\\nJe vous écris pour demander une mise à jour de notre système de gestion des dossiers des employés en accord avec nos opérations de service de conseil en informatique en cours. Le système actuel nécessite des améliorations pour maximiser l'efficacité et garantir une intégration harmonieuse avec notre infrastructure informatique existante. Dans le cadre de cette demande, nous souhaiterions discuter de l'étendue des services et de toute exigence supplémentaire nécessaire à la mise en œuvre de ces mises à jour.\\n\\nVeuillez me faire savoir un moment approprié pour une discussion détaillée. Nous vous remercions de votre assistance rapide dans cette affaire. \\n\\nMerci, \\n\\n<name>\\n<acc_num>\\n\\nClassify the following attributes:\\nDepartment: Human Resources\\nPriority: low\\nLanguage: fr\\nType: Change\\n\\nSubject: Issues with Slack connection affecting team communication today\\nBody: Dear Customer Support Team,\\n\\nI am encountering challenges when attempting to activate my Kaspersky Internet Security 2024 product. Despite adhering to the suggested guidelines, I am still facing complications. My account number is <acc_num>. Could you kindly assist me with the activation process at your earliest opportunity? You can reach me at <tel_num> or through email at <email>.\\n\\nThank you for your swift support.\\n\\nSincerely,\\n<name>\\n\\nClassify the following attributes:\\nDepartment: Product Support\\nPriority: medium\\nLanguage: en\\nType: Problem\\n\\nSubject: Defective Dell XPS 13 9310\\nBody: Dear Tech Online Store Support,\\n\\nI received a Dell XPS 13 9310 with a defective display. Please arrange an exchange at the earliest convenience. My order number is <order_num>. Feel free to contact me at <email> or <tel_num> if you need further information.\\n\\nBest,\\n<name>\\n\\nClassify the following attributes:\\nDepartment: Returns and Exchanges\\nPriority: low\\nLanguage: en\\nType: Incident\\n\\nSubject: Touchscreen and Keyboard Issues with Surface Pro 7\\nBody: Dear Tech Online Store Customer Support,\\n\\nI hope this message finds you well. I am writing to bring to your attention some issues I have been experiencing with my recently purchased Microsoft Surface Pro 7. The main problems concern the touchscreen response and the detachable keyboard connection. \\n\\nSince purchase, the touchscreen functionality has been inconsistent, often failing to register my touch inputs accurately. This inconsistency significantly affects the usability of the device, as I primarily rely on the touch feature for my day-to-day tasks.\\n\\nFurthermore, the detachable keyboard frequently disconnects from the device at random intervals. I have tried several troubleshooting steps including resetting the device, updating drivers, and even reattaching the keyboard several times per day. Despite these efforts, the problem persists. \\n\\nGiven the challenges detailed above, I am kindly requesting assistance in resolving these issues. I trust that you may have encountered similar problems and possibly have solutions or processes in place to address them effectively. Please let me know how to proceed or if a replacement is necessary. \\n\\nThank you for your attention to this matter.\\n\\nBest regards,\\n\\n<name>\\n\\nClassify the following attributes:\\nDepartment: Sales and Pre-Sales\\nPriority: medium\\nLanguage: en\\nType: Problem\\n\\nSubject: AWS-Serverausfall\\nBody: Sehr geehrte Kundenbetreuung,\\n\\nwir hatten einen unerwarteten Ausfall unserer AWS-Server, was zu erheblichen Konnektivitätsproblemen geführt hat. Die Störung hat die Datenabfrage und die Sichtbarkeit der Server für unseren AWS-Managementdienst beeinträchtigt. Sofortige Unterstützung ist dringend erforderlich.\\n\\nDanke,\\n\\n<name>\\n\\nClassify the following attributes:\\nDepartment: Service Outages and Maintenance\\nPriority: high\\nLanguage: de\\nType: Incident\\n\\nSubject: Solicitud urgente de orientación y solución de problemas\\nBody: Estimado soporte al cliente, espero que este mensaje le encuentre bien. Me pongo en contacto para solicitar urgentemente su experiencia en orientación sobre desarrollo de software y solución de problemas del servidor como parte de nuestro actual proyecto de consultoría de TI. Hemos encontrado algunos problemas críticos que están afectando negativamente nuestros plazos del proyecto. Específicamente, nuestro equipo está enfrentando desafíos con la integración del nuevo software con nuestros sistemas existentes, lo que ha llevado a tiempos de inactividad inesperados y retrasos en el rendimiento. Además, ha habido problemas persistentes de conectividad del servidor que no podemos resolver por nuestra cuenta, obstaculizando la entrega fluida de nuestros servicios. Su pronta asistencia en el diagnóstico y rectificación de estos problemas sería inmensamente beneficiosa. Confiamos en su amplia experiencia y destreza técnica para ayudarnos a superar estos obstáculos rápidamente. ¿Podría también organizar una consulta con su desarrollador líder a la mayor brevedad posible? Nuestro objetivo es resolver estos problemas lo más rápido posible para minimizar cualquier retraso adicional en el proyecto y garantizar una experiencia fluida para el cliente. Gracias por su atención inmediata a este asunto. Espero su respuesta rápida. Saludos cordiales, <name>\\n\\nClassify the following attributes:\\nDepartment: Technical Support\\nPriority: high\\nLanguage: es\\nType: Request\""
            ],
            "application/vnd.google.colaboratory.intrinsic+json": {
              "type": "string"
            }
          },
          "metadata": {},
          "execution_count": 15
        }
      ]
    },
    {
      "cell_type": "code",
      "source": [
        "# Prepare training data for Groqcloud\n",
        "train_prompts = [few_shot_prompt] * len(train_data)\n",
        "train_labels = train_data[['type', 'department', 'language', 'priority']].values.tolist()"
      ],
      "metadata": {
        "id": "EOcVmjrhveQI"
      },
      "execution_count": null,
      "outputs": []
    }
  ]
}